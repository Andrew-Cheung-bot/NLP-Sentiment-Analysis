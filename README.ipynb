{
 "cells": [
  {
   "cell_type": "markdown",
   "id": "adb3b01c-b616-46bc-8766-28838a1aee24",
   "metadata": {},
   "source": [
    "**This is the guidence on how to load the vectorized data.**"
   ]
  },
  {
   "cell_type": "markdown",
   "id": "3d8c9237-625e-4e30-9e58-1ef6126442e3",
   "metadata": {},
   "source": [
    "### Load the data"
   ]
  },
  {
   "cell_type": "code",
   "execution_count": 1,
   "id": "67c7c7ca-3ac1-41b4-8c3f-89ede5b11fae",
   "metadata": {},
   "outputs": [],
   "source": [
    "import numpy as np\n",
    "\n",
    "german_sen_emb = np.load(\"./data/german_sen_emb.npy\")\n",
    "socc_sen_emb = np.load(\"./data/socc_sen_emb.npy\")\n",
    "german_word_emb = np.load(\"./data/german_word_emb.npy\")\n",
    "socc_word_emb = np.load(\"./data/socc_word_emb.npy\")\n",
    "german_label_expert1 = np.load(\"./data/german_label_expert1.npy\")\n",
    "german_label_expert2 = np.load(\"./data/german_label_expert2.npy\")\n",
    "socc_label = np.load(\"./data/socc_label.npy\")"
   ]
  },
  {
   "cell_type": "markdown",
   "id": "6c1c9abb-31af-41e1-8862-8da230ad3862",
   "metadata": {},
   "source": [
    "### Data intro"
   ]
  },
  {
   "cell_type": "markdown",
   "id": "a0ea5261-21ac-420f-9f1a-fbbf9e981b72",
   "metadata": {},
   "source": [
    "There are total 7 data files \\\n",
    "german represent for the IWG_hatespeech_public dataset (https://github.com/UCSM-DUE/IWG_hatespeech_public) \\\n",
    "socc represent for the SFU Opinion and Comments Corpus dataset (https://github.com/sfu-discourse-lab/SOCC) \\\n",
    "***german_sen_emb*** and ***socc_sen_emb*** are the sentences embedding of the text. \\\n",
    "***socc_word_emb*** and ***german_word_emb*** are the word embedding of the text. \\\n",
    "***german_label_expert1***, ***german_label_expert2*** are the labels annotated by two experts. \\\n",
    "***socc_label*** is the **toxicity_level** line in **SFU_constructiveness_toxicity_corpus.csv**. "
   ]
  },
  {
   "cell_type": "markdown",
   "id": "88fa23a7-f2f5-4606-8e45-161821dce099",
   "metadata": {},
   "source": [
    "**For unknown word, I used the \"UNK\" word vector to fill the place** \\\n",
    "**I used the end-of-sent word vector to fill the end of each text**"
   ]
  },
  {
   "cell_type": "markdown",
   "id": "1a9974fd-e90a-4dbb-9477-f57e0196fbd1",
   "metadata": {},
   "source": [
    "#### german dataset"
   ]
  },
  {
   "cell_type": "code",
   "execution_count": 2,
   "id": "4a7f0ca9-460e-4fce-884c-3a8e7553144f",
   "metadata": {},
   "outputs": [
    {
     "data": {
      "text/plain": [
       "(469, 768)"
      ]
     },
     "execution_count": 2,
     "metadata": {},
     "output_type": "execute_result"
    }
   ],
   "source": [
    "german_sen_emb.shape #469 is the size of dataset, 768 is the embedding dim of the sent2vec model"
   ]
  },
  {
   "cell_type": "code",
   "execution_count": 3,
   "id": "875126ed-9e3e-40d2-bf1b-32aaec57af47",
   "metadata": {},
   "outputs": [
    {
     "data": {
      "text/plain": [
       "(469, 64, 300)"
      ]
     },
     "execution_count": 3,
     "metadata": {},
     "output_type": "execute_result"
    }
   ],
   "source": [
    "#for german dataset, all the text are converted to a numpy array in shape of (64, 300), eos is used to filled the length of the text\n",
    "german_word_emb.shape #469 is the size of dataset"
   ]
  },
  {
   "cell_type": "code",
   "execution_count": 4,
   "id": "b8638fe4-7524-427d-a3f6-a94e21c383d4",
   "metadata": {},
   "outputs": [
    {
     "data": {
      "text/plain": [
       "(469,)"
      ]
     },
     "execution_count": 4,
     "metadata": {},
     "output_type": "execute_result"
    }
   ],
   "source": [
    "german_label_expert1.shape #labels annotated by the first expert"
   ]
  },
  {
   "cell_type": "code",
   "execution_count": 5,
   "id": "0c337df3-c466-4145-b527-fe964eb3b2ea",
   "metadata": {},
   "outputs": [
    {
     "data": {
      "text/plain": [
       "(469,)"
      ]
     },
     "execution_count": 5,
     "metadata": {},
     "output_type": "execute_result"
    }
   ],
   "source": [
    "german_label_expert2.shape #labels annotated by the second expert"
   ]
  },
  {
   "cell_type": "markdown",
   "id": "0af648b8-5d1f-45a7-95d8-62804a43e933",
   "metadata": {},
   "source": [
    "#### socc dataset"
   ]
  },
  {
   "cell_type": "code",
   "execution_count": 6,
   "id": "ba3ff4c1-1534-42c4-8ebf-e3fd99175d7c",
   "metadata": {},
   "outputs": [
    {
     "data": {
      "text/plain": [
       "(1043, 768)"
      ]
     },
     "execution_count": 6,
     "metadata": {},
     "output_type": "execute_result"
    }
   ],
   "source": [
    "socc_sen_emb.shape #1043 is the size of dataset, 768 is the embedding dim of the sent2vec model"
   ]
  },
  {
   "cell_type": "code",
   "execution_count": 7,
   "id": "5a97647d-8079-4598-b429-f7145457d9d0",
   "metadata": {},
   "outputs": [
    {
     "data": {
      "text/plain": [
       "(1043, 1024, 300)"
      ]
     },
     "execution_count": 7,
     "metadata": {},
     "output_type": "execute_result"
    }
   ],
   "source": [
    "#for socc dataset, all the text are converted to a numpy array in shape of (1024, 300), eos is used to filled the length of the text\n",
    "socc_word_emb.shape #1043 is the size of dataset"
   ]
  },
  {
   "cell_type": "code",
   "execution_count": 8,
   "id": "52573cd6-b680-4269-a37d-7cdded656c51",
   "metadata": {},
   "outputs": [
    {
     "data": {
      "text/plain": [
       "(1043,)"
      ]
     },
     "execution_count": 8,
     "metadata": {},
     "output_type": "execute_result"
    }
   ],
   "source": [
    "socc_label.shape #labels, the original toxicity_level has 4 levels, I simply make level 1 as label 0 and levels 2, 3, 4 as label 1"
   ]
  },
  {
   "cell_type": "code",
   "execution_count": null,
   "id": "63b7d0cd-ba7a-4f68-bb15-d2245c3fbd69",
   "metadata": {},
   "outputs": [],
   "source": []
  }
 ],
 "metadata": {
  "kernelspec": {
   "display_name": "Python [conda env:comp7045] *",
   "language": "python",
   "name": "conda-env-comp7045-py"
  },
  "language_info": {
   "codemirror_mode": {
    "name": "ipython",
    "version": 3
   },
   "file_extension": ".py",
   "mimetype": "text/x-python",
   "name": "python",
   "nbconvert_exporter": "python",
   "pygments_lexer": "ipython3",
   "version": "3.11.8"
  }
 },
 "nbformat": 4,
 "nbformat_minor": 5
}
