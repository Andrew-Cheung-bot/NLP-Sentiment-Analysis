{
 "cells": [
  {
   "cell_type": "markdown",
   "id": "adb3b01c-b616-46bc-8766-28838a1aee24",
   "metadata": {},
   "source": [
    "**This is the guidence on how to load the vectorized data.**"
   ]
  },
  {
   "cell_type": "markdown",
   "id": "3d8c9237-625e-4e30-9e58-1ef6126442e3",
   "metadata": {},
   "source": [
    "### Load the data"
   ]
  },
  {
   "cell_type": "code",
   "execution_count": 1,
   "id": "67c7c7ca-3ac1-41b4-8c3f-89ede5b11fae",
   "metadata": {},
   "outputs": [],
   "source": [
    "import pickle\n",
    "import numpy as np\n",
    "\n",
    "def load_data(file_name):\n",
    "    with open(f'{file_name}.pkl', 'rb') as f:\n",
    "        loaded_data = pickle.load(f)\n",
    "    return loaded_data"
   ]
  },
  {
   "cell_type": "code",
   "execution_count": 2,
   "id": "e99f481f-0070-4876-b88f-f8d38042838c",
   "metadata": {},
   "outputs": [],
   "source": [
    "german_sen_emb = load_data(\"german_sen_emb\")\n",
    "socc_sen_emb = load_data(\"socc_sen_emb\")\n",
    "german_word_emb = load_data(\"german_word_emb\")\n",
    "socc_word_emb = load_data(\"socc_word_emb\")\n",
    "german_label_expert1 = load_data(\"german_label_expert1\")\n",
    "german_label_expert2 = load_data(\"german_label_expert2\")\n",
    "socc_label = load_data(\"socc_label\")"
   ]
  },
  {
   "cell_type": "markdown",
   "id": "6c1c9abb-31af-41e1-8862-8da230ad3862",
   "metadata": {},
   "source": [
    "### Data intro"
   ]
  },
  {
   "cell_type": "markdown",
   "id": "a0ea5261-21ac-420f-9f1a-fbbf9e981b72",
   "metadata": {},
   "source": [
    "There are total 7 data files \\\n",
    "german represent for the IWG_hatespeech_public dataset (https://github.com/UCSM-DUE/IWG_hatespeech_public) \\\n",
    "socc represent for the SFU Opinion and Comments Corpus dataset (https://github.com/sfu-discourse-lab/SOCC) \\\n",
    "***german_sen_emb*** and ***socc_sen_emb*** are 2-D numpy.array which are the sentences embedding of the text. \\\n",
    "***socc_word_emb*** and ***german_word_emb*** are the word embedding of the text. \\\n",
    "***german_label_expert1***, ***german_label_expert2*** are numpy.array which are the labels annotated by two experts. \\\n",
    "***socc_label*** is a numpy.array which is the **toxicity_level** line in **SFU_constructiveness_toxicity_corpus.csv**. "
   ]
  },
  {
   "cell_type": "markdown",
   "id": "1a9974fd-e90a-4dbb-9477-f57e0196fbd1",
   "metadata": {},
   "source": [
    "#### german dataset"
   ]
  },
  {
   "cell_type": "code",
   "execution_count": 3,
   "id": "4a7f0ca9-460e-4fce-884c-3a8e7553144f",
   "metadata": {},
   "outputs": [
    {
     "data": {
      "text/plain": [
       "(469, 768)"
      ]
     },
     "execution_count": 3,
     "metadata": {},
     "output_type": "execute_result"
    }
   ],
   "source": [
    "german_sen_emb.shape #469 is the size of dataset, 768 is the embedding dim of the sent2vec model"
   ]
  },
  {
   "cell_type": "code",
   "execution_count": 4,
   "id": "875126ed-9e3e-40d2-bf1b-32aaec57af47",
   "metadata": {},
   "outputs": [
    {
     "data": {
      "text/plain": [
       "469"
      ]
     },
     "execution_count": 4,
     "metadata": {},
     "output_type": "execute_result"
    }
   ],
   "source": [
    "len(german_word_emb) #469 is the size of dataset, each of the german_sen_emb list is a numpy.array, which in shape of (num_words, 300)."
   ]
  },
  {
   "cell_type": "code",
   "execution_count": 5,
   "id": "1d1a0b8b-1519-4e37-a4ae-6a2b70c090ba",
   "metadata": {},
   "outputs": [
    {
     "data": {
      "text/plain": [
       "(11, 300)"
      ]
     },
     "execution_count": 5,
     "metadata": {},
     "output_type": "execute_result"
    }
   ],
   "source": [
    "german_word_emb[0].shape # 300 is the dim of the word2vec model, 11 is the length of the first text (11 word vectors in total)"
   ]
  },
  {
   "cell_type": "markdown",
   "id": "39e77609-0a36-4b65-9472-08798d34cb93",
   "metadata": {},
   "source": [
    "**NOTE: EACH ELEMENTS IN THE LIST ARE NOT IN THE SAME SHAPE**"
   ]
  },
  {
   "cell_type": "code",
   "execution_count": 6,
   "id": "bce62e22-79f7-4da1-9aa5-04ef5ccc21d5",
   "metadata": {},
   "outputs": [
    {
     "data": {
      "text/plain": [
       "(9, 300)"
      ]
     },
     "execution_count": 6,
     "metadata": {},
     "output_type": "execute_result"
    }
   ],
   "source": [
    "german_word_emb[1].shape #different shape with german_word_emb[0].shape"
   ]
  },
  {
   "cell_type": "code",
   "execution_count": 7,
   "id": "b8638fe4-7524-427d-a3f6-a94e21c383d4",
   "metadata": {},
   "outputs": [
    {
     "data": {
      "text/plain": [
       "(469,)"
      ]
     },
     "execution_count": 7,
     "metadata": {},
     "output_type": "execute_result"
    }
   ],
   "source": [
    "german_label_expert1.shape #labels annotated by the first expert"
   ]
  },
  {
   "cell_type": "code",
   "execution_count": 8,
   "id": "0c337df3-c466-4145-b527-fe964eb3b2ea",
   "metadata": {},
   "outputs": [
    {
     "data": {
      "text/plain": [
       "(469,)"
      ]
     },
     "execution_count": 8,
     "metadata": {},
     "output_type": "execute_result"
    }
   ],
   "source": [
    "german_label_expert2.shape #labels annotated by the second expert"
   ]
  },
  {
   "cell_type": "markdown",
   "id": "0af648b8-5d1f-45a7-95d8-62804a43e933",
   "metadata": {},
   "source": [
    "#### socc dataset"
   ]
  },
  {
   "cell_type": "code",
   "execution_count": 9,
   "id": "ba3ff4c1-1534-42c4-8ebf-e3fd99175d7c",
   "metadata": {},
   "outputs": [
    {
     "data": {
      "text/plain": [
       "(1043, 768)"
      ]
     },
     "execution_count": 9,
     "metadata": {},
     "output_type": "execute_result"
    }
   ],
   "source": [
    "socc_sen_emb.shape #1043 is the size of dataset, 768 is the embedding dim of the sent2vec model"
   ]
  },
  {
   "cell_type": "code",
   "execution_count": 10,
   "id": "5a97647d-8079-4598-b429-f7145457d9d0",
   "metadata": {},
   "outputs": [
    {
     "data": {
      "text/plain": [
       "1043"
      ]
     },
     "execution_count": 10,
     "metadata": {},
     "output_type": "execute_result"
    }
   ],
   "source": [
    "len(socc_word_emb) #1043 is the size of dataset, each of the german_sen_emb list is a numpy.array, which in shape of (num_words, 300)."
   ]
  },
  {
   "cell_type": "code",
   "execution_count": 11,
   "id": "3718a868-c06d-4964-9007-0dcdac6c928b",
   "metadata": {},
   "outputs": [
    {
     "data": {
      "text/plain": [
       "(120, 300)"
      ]
     },
     "execution_count": 11,
     "metadata": {},
     "output_type": "execute_result"
    }
   ],
   "source": [
    "socc_word_emb[0].shape #300 is the dim of the word2vec model, 120 is the length of the first text (120 word vectors in total)"
   ]
  },
  {
   "cell_type": "code",
   "execution_count": 12,
   "id": "c345ff73-2714-48c8-a9d2-2ba279155e9c",
   "metadata": {},
   "outputs": [
    {
     "data": {
      "text/plain": [
       "(223, 300)"
      ]
     },
     "execution_count": 12,
     "metadata": {},
     "output_type": "execute_result"
    }
   ],
   "source": [
    "socc_word_emb[1].shape #300 is the dim of the word2vec model, 223 is the length of the second text (223 word vectors in total)"
   ]
  },
  {
   "cell_type": "markdown",
   "id": "606a0fb7-2bc4-44da-a36c-7a61ec2198e0",
   "metadata": {},
   "source": [
    "**NOTE: socc_word_emb contains np.nan element**\\\n",
    "This is beacuse there are some samples which all the words of this sample are not included in the word2vec model."
   ]
  },
  {
   "cell_type": "code",
   "execution_count": 13,
   "id": "779684a1-45a4-4e56-a968-4860e942323f",
   "metadata": {},
   "outputs": [
    {
     "name": "stdout",
     "output_type": "stream",
     "text": [
      "The 123 element of socc_word_emb is Nan\n",
      "The 364 element of socc_word_emb is Nan\n",
      "The 422 element of socc_word_emb is Nan\n"
     ]
    }
   ],
   "source": [
    "for i in range(len(socc_word_emb)):\n",
    "    try:\n",
    "        if np.isnan(socc_word_emb[i]):\n",
    "            print(f\"The {i} element of socc_word_emb is Nan\")\n",
    "    except:\n",
    "        pass"
   ]
  },
  {
   "cell_type": "code",
   "execution_count": 14,
   "id": "52573cd6-b680-4269-a37d-7cdded656c51",
   "metadata": {},
   "outputs": [
    {
     "data": {
      "text/plain": [
       "(1043,)"
      ]
     },
     "execution_count": 14,
     "metadata": {},
     "output_type": "execute_result"
    }
   ],
   "source": [
    "socc_label.shape #labels, the original toxicity_level has 4 levels, I simply make level 1 as label 0 and levels 2, 3, 4 as label 1"
   ]
  },
  {
   "cell_type": "code",
   "execution_count": null,
   "id": "63b7d0cd-ba7a-4f68-bb15-d2245c3fbd69",
   "metadata": {},
   "outputs": [],
   "source": []
  }
 ],
 "metadata": {
  "kernelspec": {
   "display_name": "Python [conda env:comp7045] *",
   "language": "python",
   "name": "conda-env-comp7045-py"
  },
  "language_info": {
   "codemirror_mode": {
    "name": "ipython",
    "version": 3
   },
   "file_extension": ".py",
   "mimetype": "text/x-python",
   "name": "python",
   "nbconvert_exporter": "python",
   "pygments_lexer": "ipython3",
   "version": "3.11.8"
  }
 },
 "nbformat": 4,
 "nbformat_minor": 5
}
